{
  "cells": [
    {
      "cell_type": "markdown",
      "metadata": {
        "id": "view-in-github",
        "colab_type": "text"
      },
      "source": [
        "<a href=\"https://colab.research.google.com/github/SChoi005/Data-Science/blob/main/neural_network.ipynb\" target=\"_parent\"><img src=\"https://colab.research.google.com/assets/colab-badge.svg\" alt=\"Open In Colab\"/></a>"
      ]
    },
    {
      "cell_type": "markdown",
      "metadata": {
        "id": "5yFzwRySGjww"
      },
      "source": [
        "# Neural Network\n",
        "* Data Set : MNIST\n",
        "* Activation function\n",
        "  * Linear function : step function\n",
        "  * Non-linear function : sigmoid, ReLU \n",
        "* Activation function at Output layer\n",
        "  * Classification : Softmax\n",
        "  * Regression : Identity Function\n",
        "* Loss Function\n",
        "  * Sum of Squares for Error (SSE)\n",
        "  * Cross Entropy Error (CEE)\n",
        "* Numerical Differentiation\n",
        "  * Gradient Descent Method"
      ]
    },
    {
      "cell_type": "code",
      "execution_count": null,
      "metadata": {
        "id": "Y_X2pUP-GZHz"
      },
      "outputs": [],
      "source": [
        "import numpy as np\n",
        "import matplotlib.pyplot as plt"
      ]
    },
    {
      "cell_type": "markdown",
      "metadata": {
        "id": "mojvkxDoMFxH"
      },
      "source": [
        "## Step Function Implement"
      ]
    },
    {
      "cell_type": "code",
      "execution_count": null,
      "metadata": {
        "id": "aZh6NmArK4Nb"
      },
      "outputs": [],
      "source": [
        "def step_function(x):\n",
        "  return np.array(x > 0, dtype=np.int32)\n",
        "\n",
        "x = np.arange(-5.0, 5.0, 1.0)\n",
        "y = step_function(x)\n",
        "\n",
        "plt.plot(x, y)\n",
        "plt.ylim(-0.1, 1.1)\n",
        "plt.show()"
      ]
    },
    {
      "cell_type": "markdown",
      "metadata": {
        "id": "Pbyzbus2Ma7l"
      },
      "source": [
        "## Sigmoid Function Implement\n",
        "\n",
        "![image.png](data:image/png;base64,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)"
      ]
    },
    {
      "cell_type": "code",
      "execution_count": null,
      "metadata": {
        "id": "zL2aOSQ1LZY3"
      },
      "outputs": [],
      "source": [
        "def sigmoid(x):\n",
        "  return 1 / (1 + np.exp(-x))\n",
        "\n",
        "x = np.arange(-5.0, 5.0, 0.1)\n",
        "y = sigmoid(x)\n",
        "\n",
        "plt.plot(x, y)\n",
        "plt.ylim(-0.1, 1.1)\n",
        "plt.show()\n"
      ]
    },
    {
      "cell_type": "markdown",
      "metadata": {
        "id": "pqNVp62NM5eJ"
      },
      "source": [
        "## ReLu Function Implement\n",
        "\n",
        "![image.png](data:image/png;base64,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)"
      ]
    },
    {
      "cell_type": "code",
      "execution_count": null,
      "metadata": {
        "id": "pDLQBU8FM9Qa"
      },
      "outputs": [],
      "source": [
        "def relu(x):\n",
        "  return np.maximum(0, x)\n",
        "\n",
        "x = np.arange(-5.0, 5.0, 0.1)\n",
        "y = relu(x)\n",
        "\n",
        "plt.plot(x, y)\n",
        "plt.ylim(-1, 5)\n",
        "plt.show()\n"
      ]
    },
    {
      "cell_type": "markdown",
      "metadata": {
        "id": "Xx6KxFxQGjBh"
      },
      "source": [
        "## Softmax Function\n"
      ]
    },
    {
      "cell_type": "code",
      "execution_count": null,
      "metadata": {
        "id": "20laBOpeO2ul"
      },
      "outputs": [],
      "source": [
        "def softmax(a):\n",
        "  # prevent overflow\n",
        "  c = np.max(a)\n",
        "  exp_a = np.exp(a - c)\n",
        "\n",
        "  sum_exp_a = np.sum(exp_a)\n",
        "  y = exp_a / sum_exp_a\n",
        "  \n",
        "  return y\n",
        "\n",
        "a = np.array([3.0, 2.9, 4.0])\n",
        "y = softmax(a)\n",
        "\n",
        "print(y)\n",
        "np.sum(y)"
      ]
    },
    {
      "cell_type": "markdown",
      "metadata": {
        "id": "Uv-vHmdpQWPO"
      },
      "source": [
        "## Implement Neural Network : MNIST"
      ]
    },
    {
      "cell_type": "markdown",
      "metadata": {
        "id": "U_M_mIjMZRFd"
      },
      "source": [
        "### Forward propagation"
      ]
    },
    {
      "cell_type": "code",
      "execution_count": null,
      "metadata": {
        "id": "kE6B4lePPufi"
      },
      "outputs": [],
      "source": [
        "import sys, os\n",
        "sys.path.append(os.pardir)\n",
        "from dataset.mnist import load_mnist\n",
        "from PIL import Image\n",
        "import pickle\n",
        "\n",
        "\n",
        "def get_data():\n",
        "  # flatten : true -> 28 X 28 X 1 => 784, false(default) -> 28 X 28 X 1 \n",
        "  # normalize : true -> normalize from 0.0 to 1.0 by dividing values into 255\n",
        "  # one_hot_label : true -> It makes t_train, t_test one_hot_label\n",
        "\n",
        "  (x_train, t_train), (x_test, t_test) = load_mnist(flatten=True, normalize=True, one_hot_label=False)\n",
        "  return x_test, t_test\n",
        "\n",
        "def init_network():\n",
        "  with open(\"./dataset/sample_weight.pkl\", \"rb\") as f:\n",
        "    network = pickle.load(f)\n",
        "\n",
        "  return network\n",
        "\n",
        "def predict(network, x):\n",
        "  W1, W2, W3 = network['W1'], network['W2'], network['W3']\n",
        "  b1, b2, b3 = network['b1'], network['b2'], network['b3']\n",
        "\n",
        "  a1 = np.dot(x, W1) + b1\n",
        "  z1 = sigmoid(a1)\n",
        "  a2 = np.dot(z1, W2) + b2\n",
        "  z2 = sigmoid(a2)\n",
        "  a3 = np.dot(z2, W3) + b3\n",
        "  y = softmax(a3)\n",
        "\n",
        "  return y\n",
        "\n"
      ]
    },
    {
      "cell_type": "code",
      "execution_count": null,
      "metadata": {
        "id": "NM03OnqDUTIl"
      },
      "outputs": [],
      "source": [
        "x, t = get_data()\n",
        "network = init_network()\n",
        "\n",
        "accuracy_cnt = 0\n",
        "for i in range(len(x)):\n",
        "  y = predict(network, x[i])\n",
        "  p = np.argmax(y)\n",
        "  if p == t[i]:\n",
        "    accuracy_cnt += 1\n",
        "\n",
        "print(\"Accuracy : \" + str(float(accuracy_cnt)/ len(x)))\n",
        "\n"
      ]
    },
    {
      "cell_type": "markdown",
      "metadata": {
        "id": "jHzfPffFWvQn"
      },
      "source": [
        "### Using Batch"
      ]
    },
    {
      "cell_type": "code",
      "execution_count": null,
      "metadata": {
        "id": "weq3F4ufUwtL"
      },
      "outputs": [],
      "source": [
        "batch_size = 100\n",
        "accuracy_cnt = 0\n",
        "\n",
        "for i in range(0, len(x), batch_size):\n",
        "  x_batch = x[i:i+batch_size]\n",
        "  y_batch = predict(network, x_batch)\n",
        "\n",
        "  p = np.argmax(y_batch, axis=1)\n",
        "\n",
        "  accuracy_cnt += np.sum(p == t[i:i+batch_size])\n",
        "\n",
        "print(\"Accuracy : \" + str(float(accuracy_cnt)/ len(x)))"
      ]
    },
    {
      "cell_type": "markdown",
      "metadata": {
        "id": "5w7-5q719ROU"
      },
      "source": [
        "## Neural Network Learning"
      ]
    },
    {
      "cell_type": "markdown",
      "metadata": {
        "id": "jMkHfhXjEhmm"
      },
      "source": [
        "### Loss Function"
      ]
    },
    {
      "cell_type": "markdown",
      "metadata": {
        "id": "Wzilp7zG9i3r"
      },
      "source": [
        "#### Sum of Squares for Error\n",
        "![image.png](data:image/png;base64,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)"
      ]
    },
    {
      "cell_type": "code",
      "execution_count": null,
      "metadata": {
        "id": "JLpF1zNo9Z7F"
      },
      "outputs": [],
      "source": [
        "def sum_squares_error(y, t):\n",
        "  return 0.5 * np.sum((y-t)**2)\n",
        "\n",
        "\n",
        "t = [0, 0, 1, 0, 0, 0, 0, 0, 0, 0] # one-hot incoding\n",
        "y = [0.1, 0.05, 0.6, 0.0, 0.05, 0.1, 0.0, 0.1, 0.0, 0.0] \n",
        "\n",
        "sum_squares_error(np.array(y), np.array(t))"
      ]
    },
    {
      "cell_type": "markdown",
      "metadata": {
        "id": "VB0BWjLy-04B"
      },
      "source": [
        "#### Cross Entropy Error\n",
        "![image.png](data:image/png;base64,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)"
      ]
    },
    {
      "cell_type": "code",
      "execution_count": null,
      "metadata": {
        "id": "52A7cvdh-zaL"
      },
      "outputs": [],
      "source": [
        "def cross_entropy_error(y, t):\n",
        "  delta = 1e-7  # Prevent negative infinity\n",
        "  return -np.sum(t * np.log(y + delta))\n",
        "\n",
        "t = [0, 0, 1, 0, 0, 0, 0, 0, 0, 0] # one-hot incoding\n",
        "y = [0.1, 0.05, 0.6, 0.0, 0.05, 0.1, 0.0, 0.1, 0.0, 0.0] \n",
        "\n",
        "cross_entropy_error(np.array(y), np.array(t))"
      ]
    },
    {
      "cell_type": "markdown",
      "metadata": {
        "id": "0w5S3nvl_78E"
      },
      "source": [
        "#### Mini-batch for Cross Entropy Error\n",
        "![image.png](data:image/png;base64,iVBORw0KGgoAAAANSUhEUgAAAQcAAABLCAYAAAB9RkIEAAARoUlEQVR4Ae2dB5AURRuGMaGiYkJUVExgaYE5gAJGFAPJhDln0UIxAGJALEsQUAGzogSzlgRzzjlnxQgKmAOggqDfX0//9tk1N7s7szd73A3vVzW1uzM9Pd1vd79f6rlrYBIhIASEQAwCDWLO6ZQQEAJCwEQOmgRCQAjEIiByiIVFJ4WAEBA5aA4IASEQi4DIIRYWnRQCQkDkoDkgBIRALAIih1hYdFIICAGRg+aAEBACsQiIHGJh0UkhIAREDpoDQkAIxCIgcoiFRSeFgBAQOWgOCAEhEIuAyCEWFp0UAkJA5KA5IASEQCwCIodYWHRSCAgBkYPmgBAQArEIiBxiYdFJISAERA6aA0JACMQiIHKIhUUnhYAQEDmUMQd+++03GzhwoO2xxx5l3K1bhED9QEDkkGKcfvjhB7v33nutW7dutswyy9guu+yS4m4VFQL1CwGRQ4rxevbZZ23YsGH28MMP21ZbbSVySIGditY/BEQOKcbs999/tzlz5ti0adOsQ4cOIocU2Klo/UNA5FDGmIkcygBNt9Q7BEQOZQyZyKEM0HRLvUNA5FDGkIkcygBNt9Q7BEQOZQxZGnKYN2+eXXHFFbbNNtu4ICaBzCTHSSedVEbL/rvln3/+sUmTJtm2226b6Hm+TYcffvh/lejbQo1AKnKYPXu2keMvdsyaNcv+/vvvXIM6depUa9eune28886J+vrKK6/Yuuuuaw0aNLBOnTrZzz//HIvPa6+95hbzIoss4uqOLZTi5GeffWY77LCDe+5aa61l06dPj737q6++sr322st4LiSRNxk3bpytuuqqDofWrVvbm2++mbcuVqQ/qcjhhBNOsOWWW86BvP3221v37t2rjl133dXl/gEfzZpHYVHffffddvbZZ7vJxoS7+uqr7bnnnjMyGcWEFCjksMIKK9g111xjf/31V7XikCr1Uy/Ek4Xccccd1rhxY1tyySVduyH4OHnjjTesZcuWuSQH+kv6Gfx32mknY7+KpDQCqcgBTdS2bVsHclQL/fjjjy61d+CBB9ovv/xS+sn1sMSMGTOci4CbEB733HOPs6aKdQlMdt99d4fdxhtvbJ9++mlscYgVbZ8VOcycOdOOOuoo99zmzZvbo48+argcUcEaPOaYY3JLDo8//rizjA455BDD1ZOURiAVOXzxxRcuv4+JHJW5c+faGWecYeeff77xXVIdAbTzyiuvbIsuuqhbsNVLmHNTjjvuOOvYsWPc5bLOffnll7b66qu7xYH7gOsXFQjj8ssvt/bt20cv1ej3pZde6raZf/zxxzWqp6Y307cllljC9bGmdS0s96cih7feesvWWWcd22+//RYWfDLtJxpr0KBBtthiizlNft9998Vq8Uwf+m9lbPtefPHF3XNvuOGGij8XssHSWnbZZW2zzTYrGGepRF+jddKWrl272lJLLWWPPfZY9LJ+F0AgFTmMHz/eTa4LL7ywqjrM0fvvv7/qt74URwANinYm+NeqVauC7kXxWtJfxa3Zf//9ndWyyiqr2Ntvv52+koR34NPffPPNtttuu7nnbb311kbsg+Ppp59OWEt2xWgPrhzvw3zzzTexFf/0008udoSLSDuJIxUKHPsK/vjjD3v11VeNe+688053z+TJk+2hhx6yX3/91ReL/URRvPPOO+7eRx55xKgrFEjMY1YoThSWr8T3VOSAy0BQB43nZeLEibbpppv6n4k/n3/+eSPAmea44IILjEGszzJ//ny75ZZbXGCyYcOGdtpppxlxgUoL2vOpp55yQUfGkGBypQJz3377rV177bXOYuBZZ511lvvNuQceeKDSXa1WPwsYixeSigqLlLl40EEHGWlcYkkovy233NKOP/74ghkesMON3nfffe3iiy92QeaePXvadtttZyuuuGJJYnnyySftsssus3322ceaNm3qSCJsGxYmwWusndqYH+Gz/fdU5EBAjUg67gVC8IxJtvfee/v6En+OGjXKEQ2TJ+mx0UYbGWnE+i5//vmnEbil32ussYYRLKsNIUPSv39/53uTdWKxVkrQusRN6OP3339fqcckqnfs2LFuwZ5zzjnVyr/++uuOCJjH3333nUHexMyuv/56a9SokVvA0ZuI2RA0xhp58cUXq2JsWABNmjSxLbbYInpLtd8QCylkAsRLL720SyWHhbDs1ltvPSOAuqAkMTnAsBADgDGhyZsT5CJFFroZC6oj4XMxwyCRNAf+MX2MCufS1MMESyIQKylGFg/ZhNoyHdF4fs8Fr5xPmTIlSXNTl8Fk3mSTTaxNmzap783yBiwmLBdwxsoNhfQzGZqVVlrJ3n///fCSvfzyy+6eY4891r1s5y+Sbr7kkkvcteuuu86fdp/PPPOMI4c0G9gYj+WXX95QfF9//XVVfeyNYY0RK1pQkpgcsBYA+LDDDqtKVdIZNvXgY9Ulwd+lrWmODTfc0IjqR4VzaerZcccdo1UU/M2khWwxIWszw4M5S+Qes7mUX12w8SUu4D6gPPr161eiZGUv44ZipdHfqBv1wQcfOIJGO0dNd1wwxp1rxNW8fP7557b55ptbs2bNqtYB1yAh3EXuGT16tC+e6BNLY+2113bxC38D7s2ee+5Z0K3x5Sr5mZgchg8f7qLs+P1ew/L6MmxZ1+IA7CFggNIcBFvjUnycS1MPm22SCKSDtsBVq01Xif0p7O6EDN99992STb311lvtiCOOsN69e9uHH35YsjwF0K4jRoxw2RF865oIixZXiDZENXWSepkLbCGnv1FhAbKYSXPiToRy1VVXuWAq/Q53/LJJjYAusaJQWBNYDGRniHGkEQiUFDdBTYQ5x2Yt5l20XUnqJQYCXqSRWaPlSmJyIBVEgAT/LQshEovZlOYAsDzsvsScxaTHnCUYhtapDWGinHzyyY7kk6ZRyXIQrCMdiaZNIrhIp5xyirOKamqZsDAffPBBW3/99WP9/1LtISZAHIDAd1RIyRMMjAuSdunSxVkVpH1DwcpjnwpbskOBdHkOcYg4CzQsG/3O8wk8DhkyxF1i1y3zo9zNhJA47hxjXXFyIJAFIC1atHC+WLRzN910k6255prR00V/w8Bs101zoGWjOzOLPqQOXgRLzHr8TD8ZSjUTTULwigP3gwHH2mDHKosvCbmwyPBfIWO0YRrBtMZ9RItjYpOu48BijHs2AUhMYsxvv62cNnvTHW2IiU/7KUsdLARMdjbaRSc0BLrBBhsYfjj3Mgd8G7wVW6g/KCGsAxZcVNiFiusTtfZoA8TNM6M7WdHK1BcGkenjkUce6c4TnI+6L9HnRn+TXmV9MS6MKy5LWD/lwYd2+fkPAUNCYOgx9vWSLSJrQsCZcQdjj1ca9zWR5UBE17+U4xvnG4ImZ0v1qaee6k/pswACLALMbExctHF0UONuI1CKiX7uueca259Z4BznnXeei4qTPiuVU6feTz75xLkTvAPD5EkqTEIC0T524H1x0nVjxoyJNXsJcuIyEW2n/RAYixMlAgaY3QMGDHBZAjTkRx995K5jCrMo77rrrqrmMbkxr0mXE+yFKE888US3EAl4FtOuPAsiZjHj/lIX1o8nKayJqOUAMeHG4B5cdNFFVe3wXwYPHuwWcq9evYysE3E3AvLgw3N474bzaYWYAxkTYnpR8oYEwIs/aMxaA1OyKVhntJ8+hkIwGGJjrBDvPmF9FdrnEd7vvyciB8CCHGh86APBkJACqZg408w/RJ//R4CFhvXDALNYCwlaw6ewIF8WExOdTTyHHnqo0ypMQCYv8YMkMQvqg5Som7rihKBzNNJOSo39GH5vC5qYPQOkogvFmtBU9JMdmVgcfGdio2QQNoK99957dvrpp7syvIgGQUBy7B5l4Xnxi5V+QwyQwdFHH+32JPj6fNnoJ/0kdsCiZfMViwWS9YTCbyxe0oq0GUzRtljIlPMkEtYLDmh2SIz1ANlSlqA8wWUWbSF8w3qi33FxiDvgzvCeUijMATZl0TYyXJABVhRWHJY3adVQbrvtNjcvsBYQ9iexIY20KQSZVIqSAwNDsIZYAwCTtiQY4w8AYuJwLe4tw6SNWFjKoXVWW2019+ZlsQnE4mCRIL4cGo/FRq6ecWGQ0XxJXC00L/saeH5I7lHcmXwQUCj43PjDkETfvn3dwsW8LVYPbWaxYOkwN8iKQIbhxKRM586dXRaBV6j5TYCUrEKYGmcBsAjx9bG6uAeLJYm1RD/wv3kNHUsGDQrBeEyZs6Q3yTChgVn0BxxwgFtEhbQ/94wcOdL1i3VAnbSRcaG/5W7PBlva4LV9OAZ8p81YD8wBiI7fWBRYHGRjQkFhc+6FF15wZIP7itXl+x2WLfa9KDkUu3Fhu4YWIRfOBMaU9BOdhcrE53yh6D9lWSwseIJEWBBxwuChQbEsPDn4cqRn0dj8BWyExckfkMG0LFbfSy+95AJlxf6OBPXhLjKh8H290G7cH7QVJimTN6tt10xWUniQmxeC3Wjf0ApFa9Jv9magpPjDvgtCEeEaYbH4jIJvM58QCRYIOzAhzrQC0RHwx0IvNJaQGvthGHMvWIGMyY033uhPuXmBSwHR4Q7SLuZoOSJySIgaxIAJjyYMg05Mckx2NC4+c5zgAxKcw/I688wznbZB40SPoUOHurpZIAxwKGg0FhPmL4LfiTXA34nwRBWW5zu+P5OOBQ+JRJ8X/mbiEyRF+3nBvCVLAaHRf/qAC5CFYBZDOJCeF/CDiAhMeoEMMZ3RglgUbMBLmjXxdWTxycIFG0/OYZ28WwHGuGRpiQvXDMsKd6JYPICxJD6Di+CF+YJLHyolrAkwJJuCxYjVB3bliMghBWp9+vRxL00xSUiRecHHIzof56OicRh8zGWIJekR/j0HXspBQzCBvDmPOcxCKbQBjag0O/kgmqTPpFz4l6D4y1QEFcksod2wIviHPlkIG4YIavqJDXaQDwQYZiDI1WMtoJEpy8THrahtod+QFLGSUMgg4ZYQL0hKWrgO9IsFzw5MrKdiMSieR3yFsSDmg2CtcC9uRUhIt99+u3NdGTtIFsIPCSVse6nvIodSCAXXIQBSWaQD2RTmNTa+PNHqOJ/OL7A0C5SyITngN0MuPMcL0X8m64QJE4yMBRMtFEiJxZb2uSE5sAgx5bFW6NuVV17pJhuBS+ITuCzlCv4zpq/HELeGgClWGYuHZ2Fig0OPHj3cYqAsKTpIivcY2GFaW8Lf42QM+FsbPmBIoJg5genOduu48Y9rH1YIdZERIVDIWJUS0q0QkCdTyBprEmsW4gRPXDBSqpAIZEt7wJO3f8nW8C8cQyIp9UyRQymE/r1OZoYAFOYwvh+vXaPR8QUxuzHhKiX4lmxqCV93ZkLxRh8LJbRismwDkX4mvxdIglQb8QusiTQ5c18Hn2CGixDNjJDqpJ/swsVtQviN++OFqD2b4dihiEtXmwL+BPtYkJAoxEXmIErMpdoEORBXIsuRpA8sctwExhoC8AJBggWpXW95ELANcWUfBGWYs7i3SQmMZ4gcPNIlPp944gmX4kJ7MYk9izNYlVygJZqly0KgYgiIHBJCixuBSYkQsWebLEE+TH7+iIrPKSesTsWEQJ1HQOSQcIjISPj99JhmBx98sEs3EozkWhK/MeGjVEwI1AkERA4JhoF9DfiXYY6fbAGpSc6TxQgj7AmqVBEhUOcREDmUGCKsBCLF7O0PA09swWWbLdH8BZFaK9FsXRYCNUZA5FACQjapkIdms0n0tV+i6OSZSWNJhEDeEBA55G1E1R8hkBECIoeMgFQ1QiBvCIgc8jai6o8QyAgBkUNGQKoaIZA3BEQOeRtR9UcIZISAyCEjIFWNEMgbAiKHvI2o+iMEMkJA5JARkKpGCOQNAZFD3kZU/RECGSEgcsgISFUjBPKGgMghbyOq/giBjBAQOWQEpKoRAnlDQOSQtxFVf4RARgiIHDICUtUIgbwhIHLI24iqP0IgIwREDhkBqWqEQN4QEDnkbUTVHyGQEQIih4yAVDVCIG8IiBzyNqLqjxDICAGRQ0ZAqhohkDcE/gd67velcm1HvwAAAABJRU5ErkJggg==)"
      ]
    },
    {
      "cell_type": "code",
      "execution_count": null,
      "metadata": {
        "id": "It0jKNEwBQd0"
      },
      "outputs": [],
      "source": [
        "def cross_entropy_error_for_minibatch(y, t):\n",
        "  if y.ndim == 1:\n",
        "    t = t.reshape(1, t.size)\n",
        "    y = y.reshape(1, y.size)\n",
        "\n",
        "  batch_size = y.shape[0]\n",
        "  return -np.sum(t * np.log(y + 1e-7)) / batch_size"
      ]
    },
    {
      "cell_type": "markdown",
      "metadata": {
        "id": "5BN9gAWtEbIn"
      },
      "source": [
        "### Numerical Differentiation"
      ]
    },
    {
      "cell_type": "code",
      "execution_count": null,
      "metadata": {
        "id": "X-OoyWibGO63"
      },
      "outputs": [],
      "source": [
        "def numerical_gradient_1d(f, x):\n",
        "  h = 1e-4 # 0.0001\n",
        "  grad = np.zeros_like(x) # create a array like same x.shape\n",
        "\n",
        "  for idx in range(x.size):\n",
        "    tmp_val = x[idx]\n",
        "    # f(x+h)\n",
        "    x[idx] = tmp_val + h\n",
        "    fxh1 = f(x)\n",
        "\n",
        "    # f(x-h)\n",
        "    x[idx] = tmp_val - h\n",
        "    fxh2 = f(x)\n",
        "\n",
        "    grad[idx] = (fxh1 - fxh2) / (2*h)\n",
        "    x[idx] = tmp_val # restore value\n",
        "\n",
        "\n",
        "\n",
        "  return grad"
      ]
    },
    {
      "cell_type": "code",
      "execution_count": null,
      "metadata": {
        "id": "0stFtyicVyJU"
      },
      "outputs": [],
      "source": [
        "def numerical_gradient_2d(f, X):\n",
        "    if X.ndim == 1:\n",
        "        return numerical_gradient_1d(f, X)\n",
        "    else:\n",
        "        grad = np.zeros_like(X)\n",
        "        \n",
        "        for idx, x in enumerate(X):\n",
        "            grad[idx] = numerical_gradient_1d(f, x)\n",
        "        \n",
        "        return grad"
      ]
    },
    {
      "cell_type": "markdown",
      "metadata": {
        "id": "7zNc0xIeE7k6"
      },
      "source": [
        "#### Gradient Descent Method\n",
        "* η : Learning Rate\n",
        "  * Be set to specific value in advance\n",
        "\n",
        "![image.png](data:image/png;base64,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)"
      ]
    },
    {
      "cell_type": "code",
      "execution_count": null,
      "metadata": {
        "id": "_EISxxIhEd_s"
      },
      "outputs": [],
      "source": [
        "def gradient_descent(f, init_x, lr=0.01, step_num=100):\n",
        "  x= init_x\n",
        "\n",
        "  for i in range(step_num):\n",
        "    grad = numerical_gradient_1d(f, x)\n",
        "    x -= lr * grad\n",
        "  return x"
      ]
    },
    {
      "cell_type": "markdown",
      "metadata": {
        "id": "W5E6U4Z6Jax8"
      },
      "source": [
        "### Two Layers Net "
      ]
    },
    {
      "cell_type": "code",
      "execution_count": null,
      "metadata": {
        "id": "mpC_oPdEJaRv"
      },
      "outputs": [],
      "source": [
        "class TwoLayersNet :\n",
        "  def __init__(self, input_size, hidden_size, output_size, weight_init_std=0.01):\n",
        "    self.params = {}\n",
        "    self.params['W1'] = weight_init_std * np.random.randn(input_size, hidden_size)\n",
        "    self.params['b1'] = np.zeros(hidden_size)\n",
        "    self.params['W2'] = weight_init_std * np.random.randn(hidden_size, output_size)\n",
        "    self.params['b2'] = np.zeros(output_size)\n",
        "\n",
        "  def predict(self, x):\n",
        "    W1, W2 = self.params['W1'], self.params['W2']\n",
        "    b1, b2 = self.params['b1'], self.params['b2']\n",
        "\n",
        "    a1 = np.dot(x, W1) + b1\n",
        "    z1 = sigmoid(a1)\n",
        "    a2 = np.dot(z1, W2) + b2\n",
        "    y = sigmoid(a2)\n",
        "\n",
        "    return y\n",
        "\n",
        "  def loss(self, x, t):\n",
        "    y = self.predict(x)\n",
        "\n",
        "    return cross_entropy_error_for_minibatch(y, t)\n",
        "\n",
        "  def accuracy(self, x, t):\n",
        "    y = self.predict(x)\n",
        "    y = np.argmax(y, axis=1)\n",
        "    t = np.argmax(t, axis=1)\n",
        "\n",
        "    accuracy = np.sum(y == t) / float(x.shape[0])\n",
        "\n",
        "    return accuracy\n",
        "\n",
        "  def numerical_gradient(self, x, t):\n",
        "    loss_W = lambda W : self.loss(x,t)\n",
        "\n",
        "    grads = {}\n",
        "    grads['W1'] = numerical_gradient_2d(loss_W, self.params['W1'])\n",
        "    grads['b1'] = numerical_gradient_2d(loss_W, self.params['b1'])\n",
        "    grads['W2'] = numerical_gradient_2d(loss_W, self.params['W2'])\n",
        "    grads['b2'] = numerical_gradient_2d(loss_W, self.params['b2'])\n",
        "\n",
        "    return grads\n"
      ]
    },
    {
      "cell_type": "code",
      "execution_count": 57,
      "metadata": {
        "id": "7f-127neMi9y"
      },
      "outputs": [],
      "source": [
        "(x_train, t_train), (x_test, t_test) = load_mnist(normalize=True, one_hot_label=True)\n",
        "\n",
        "train_loss_list = []\n",
        "\n",
        "# hyperparameter\n",
        "iters_num = 10\n",
        "train_size = x_train.shape[0]\n",
        "batch_size = 100\n",
        "learning_rate = 0.1\n",
        "\n",
        "network = TwoLayersNet(input_size=784, hidden_size=50, output_size=10)\n",
        "\n",
        "for i in range(iters_num):\n",
        "  # Get mini-batch\n",
        "  batch_mask = np.random.choice(train_size, batch_size)\n",
        "  x_batch = x_train[batch_mask]\n",
        "  t_batch = t_train[batch_mask]\n",
        "\n",
        "  # calculate gradient\n",
        "  grad = network.numerical_gradient(x_batch, t_batch)\n",
        "\n",
        "  for key in ('W1', 'b1', 'W2', 'b2'):\n",
        "    network.params[key] -= learning_rate * grad[key]\n",
        "\n",
        "  loss = network.loss(x_batch, t_batch)\n",
        "  train_loss_list.append(loss)\n"
      ]
    },
    {
      "cell_type": "code",
      "execution_count": 58,
      "metadata": {
        "colab": {
          "base_uri": "https://localhost:8080/"
        },
        "id": "MuDyxl8mOJPP",
        "outputId": "d43bee9f-0c7a-4e36-cf5e-b6a4e095ca7d"
      },
      "outputs": [
        {
          "output_type": "stream",
          "name": "stdout",
          "text": [
            "[0.6552515065982943, 0.6255495955152992, 0.5968934032825703, 0.570021934114339, 0.5433934549465248, 0.5186551836782958, 0.497761891450379, 0.47433306194949654, 0.45513821930225185, 0.4363615089619837]\n"
          ]
        }
      ],
      "source": [
        "print(train_loss_list)"
      ]
    },
    {
      "cell_type": "code",
      "execution_count": 59,
      "metadata": {
        "id": "PAOEwy93kjNB",
        "colab": {
          "base_uri": "https://localhost:8080/",
          "height": 265
        },
        "outputId": "1567ef16-d89a-4d31-a335-52ae8688c431"
      },
      "outputs": [
        {
          "output_type": "display_data",
          "data": {
            "text/plain": [
              "<Figure size 432x288 with 1 Axes>"
            ],
            "image/png": "[encoded data removed]"
          },
          "metadata": {
            "needs_background": "light"
          }
        }
      ],
      "source": [
        "plt.plot(np.arange(iters_num), train_loss_list)\n",
        "plt.show()"
      ]
    },
    {
      "cell_type": "code",
      "source": [
        ""
      ],
      "metadata": {
        "id": "9qLemZWitujs"
      },
      "execution_count": null,
      "outputs": []
    }
  ],
  "metadata": {
    "accelerator": "GPU",
    "colab": {
      "collapsed_sections": [],
      "name": "neural_network.ipynb",
      "provenance": [],
      "mount_file_id": "1a33YU62Y6nYvLhR6nqQ8MqG2Au6WT84c",
      "authorship_tag": "ABX9TyMAr8U4nVB/bzeyJS+QHeDW",
      "include_colab_link": true
    },
    "gpuClass": "standard",
    "kernelspec": {
      "display_name": "Python 3",
      "name": "python3"
    },
    "language_info": {
      "name": "python"
    }
  },
  "nbformat": 4,
  "nbformat_minor": 0
}